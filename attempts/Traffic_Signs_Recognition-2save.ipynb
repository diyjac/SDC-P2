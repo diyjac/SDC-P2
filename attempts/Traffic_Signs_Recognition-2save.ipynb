{
 "cells": [
  {
   "cell_type": "markdown",
   "metadata": {},
   "source": [
    "# Self-Driving Car Engineer Nanodegree\n",
    "\n",
    "## Deep Learning\n",
    "\n",
    "## Project: Build a Traffic Sign Recognition Classifier\n",
    "\n",
    "In this notebook, a template is provided for you to implement your functionality in stages which is required to successfully complete this project. If additional code is required that cannot be included in the notebook, be sure that the Python code is successfully imported and included in your submission, if necessary. Sections that begin with **'Implementation'** in the header indicate where you should begin your implementation for your project. Note that some sections of implementation are optional, and will be marked with **'Optional'** in the header.\n",
    "\n",
    "In addition to implementing code, there will be questions that you must answer which relate to the project and your implementation. Each section where you will answer a question is preceded by a **'Question'** header. Carefully read each question and provide thorough answers in the following text boxes that begin with **'Answer:'**. Your project submission will be evaluated based on your answers to each of the questions and the implementation you provide.\n",
    "\n",
    ">**Note:** Code and Markdown cells can be executed using the **Shift + Enter** keyboard shortcut. In addition, Markdown cells can be edited by typically double-clicking the cell to enter edit mode."
   ]
  },
  {
   "cell_type": "markdown",
   "metadata": {},
   "source": [
    "---\n",
    "\n",
    "## Step 1: Dataset Exploration\n",
    "\n",
    "Visualize the German Traffic Signs Dataset. This is open ended, some suggestions include: plotting traffic signs images, plotting the count of each sign, etc. Be creative!\n",
    "\n",
    "\n",
    "The pickled data is a dictionary with 4 key/value pairs:\n",
    "\n",
    "- features -> the images pixel values, (width, height, channels)\n",
    "- labels -> the label of the traffic sign\n",
    "- sizes -> the original width and height of the image, (width, height)\n",
    "- coords -> coordinates of a bounding box around the sign in the image, (x1, y1, x2, y2)"
   ]
  },
  {
   "cell_type": "code",
   "execution_count": null,
   "metadata": {
    "collapsed": true
   },
   "outputs": [],
   "source": [
    "# Load pickled data\n",
    "import pickle\n",
    "\n",
    "# TODO: fill this in based on where you saved the training and testing data\n",
    "training_file = 'lab2data/train.p'\n",
    "testing_file = 'lab2data/test.p'\n",
    "\n",
    "with open(training_file, mode='rb') as f:\n",
    "    train = pickle.load(f)\n",
    "with open(testing_file, mode='rb') as f:\n",
    "    test = pickle.load(f)\n",
    "    \n",
    "X_train, y_train = train['features'], train['labels']\n",
    "X_test, y_test = test['features'], test['labels']\n",
    "\n",
    "# Set flags for feature engineering.  This will prevent you from skipping an important step.\n",
    "is_features_yuv = False\n",
    "is_features_y_normal = False\n",
    "is_labels_encod = False\n",
    "is_labels_float32 = False"
   ]
  },
  {
   "cell_type": "code",
   "execution_count": null,
   "metadata": {
    "collapsed": false
   },
   "outputs": [],
   "source": [
    "### To start off let's do a basic data summary.\n",
    "# TODO: number of training examples\n",
    "n_train = len(X_train)\n",
    "\n",
    "# TODO: number of testing examples\n",
    "n_test = len(X_test)\n",
    "\n",
    "# TODO: what's the shape of an image?\n",
    "image_shape = X_train[0].shape\n",
    "\n",
    "# TODO: how many classes are in the dataset\n",
    "classes = {}\n",
    "for labelinTraining in y_train:\n",
    "    classes[labelinTraining] = classes.get(labelinTraining, 0) + 1\n",
    "n_classes = len(list(classes))\n",
    "\n",
    "print(\"Number of training examples =\", n_train)\n",
    "print(\"Number of testing examples =\", n_test)\n",
    "print(\"Image data shape =\", image_shape)\n",
    "print(\"Number of classes =\", n_classes)"
   ]
  },
  {
   "cell_type": "code",
   "execution_count": null,
   "metadata": {
    "collapsed": false
   },
   "outputs": [],
   "source": [
    "#importing some useful packages for plotting and visualization\n",
    "import matplotlib.pyplot as plt\n",
    "import matplotlib.image as mpimg\n",
    "import numpy as np\n",
    "import cv2\n",
    "%matplotlib inline\n",
    "\n",
    "#import sklearn functions for preprocessing\n",
    "from sklearn.model_selection import train_test_split\n",
    "from sklearn.preprocessing import LabelBinarizer\n",
    "\n",
    "#import pandas for csv file import\n",
    "#NOTE: install pandas in your environment!\n",
    "#conda install pandas\n",
    "import pandas as pd"
   ]
  },
  {
   "cell_type": "code",
   "execution_count": null,
   "metadata": {
    "collapsed": false
   },
   "outputs": [],
   "source": [
    "### Data exploration visualization goes here.\n",
    "### Feel free to use as many code cells as needed.\n",
    "\n",
    "# get the label description from the CSV file.\n",
    "classLabelList = pd.read_csv('signnames.csv')\n",
    "\n",
    "# Analyze Max and Min sizes (number of pixels) of the original image\n",
    "sizeStats = pd.DataFrame(train['sizes'])\n",
    "print(\"Sizes Stats:\")\n",
    "print(sizeStats.describe())\n",
    "\n",
    "originalSizes = {}\n",
    "mostCommonCount = 0\n",
    "mostCommonSize = 0\n",
    "for i in range(len(train['sizes'])):\n",
    "    # for each size\n",
    "    sizes = train['sizes'][i]\n",
    "    \n",
    "    # create a pixel hash\n",
    "    numpixelsStr = str(int(sizes[0])*int(sizes[1]))\n",
    "    \n",
    "    # try to see if there is a hash hit\n",
    "    sizeInstance = originalSizes.get(numpixelsStr, {'count': 0})\n",
    "    \n",
    "    # add to the count\n",
    "    count = sizeInstance['count'] + 1\n",
    "    \n",
    "    # put in the last Index\n",
    "    originalSizes[numpixelsStr] = {'lastIdx':i, 'count': count, 'size':sizes}\n",
    "    \n",
    "    # update most common size\n",
    "    if count > mostCommonCount:\n",
    "        mostCommonCount = count\n",
    "        mostCommonSize = originalSizes[numpixelsStr]\n",
    "    \n",
    "# get the list of sizes and sort them\n",
    "sortedSizes = np.array(list(originalSizes.keys()), np.int32)\n",
    "sortedSizes.sort()\n",
    "\n",
    "# get the unique number of original picture sizes and the min and max last instance\n",
    "n_sizes = len(sortedSizes)\n",
    "minSize = sortedSizes[0]\n",
    "maxSize = sortedSizes[n_sizes-1]\n",
    "\n",
    "# print the stats\n",
    "print(\"\\nNumber of unique original sizes in training set: \", n_sizes)\n"
   ]
  },
  {
   "cell_type": "code",
   "execution_count": null,
   "metadata": {
    "collapsed": false
   },
   "outputs": [],
   "source": [
    "### Data exploration visualization goes here.\n",
    "### Feel free to use as many code cells as needed.\n",
    "\n",
    "# draw the min size picture\n",
    "size = originalSizes[str(minSize)]['size']\n",
    "count = originalSizes[str(minSize)]['count']\n",
    "index = originalSizes[str(minSize)]['lastIdx']\n",
    "classId = train['labels'][index]\n",
    "description = classLabelList[classLabelList.ClassId==classId].SignName.to_string(header=False,index=False)\n",
    "fg = plt.figure()\n",
    "fg.text(0.1,-0.01,'Training Set Sample ClassId: %d\\nDescription:  %s'%(classId,description))\n",
    "plt.title('Training Set Sample Minimum Original Size (%dX%d), count: %d\\n'%(size[0], size[1],count))\n",
    "plt.imshow(X_train[index])\n",
    "\n"
   ]
  },
  {
   "cell_type": "code",
   "execution_count": null,
   "metadata": {
    "collapsed": false
   },
   "outputs": [],
   "source": [
    "### Data exploration visualization goes here.\n",
    "### Feel free to use as many code cells as needed.\n",
    "\n",
    "# draw the max size picture\n",
    "size = originalSizes[str(maxSize)]['size']\n",
    "count = originalSizes[str(maxSize)]['count']\n",
    "index = originalSizes[str(maxSize)]['lastIdx']\n",
    "classId = train['labels'][index]\n",
    "description = classLabelList[classLabelList.ClassId==classId].SignName.to_string(header=False,index=False)\n",
    "fg = plt.figure()\n",
    "fg.text(0.1,-0.01,'Training Set Sample ClassId: %d\\nDescription:  %s'%(classId,description))\n",
    "plt.title('Training Set Sample Maximum Original Size (%dX%d), count: %d\\n'%(size[0], size[1],count))\n",
    "plt.imshow(X_train[index])\n"
   ]
  },
  {
   "cell_type": "code",
   "execution_count": null,
   "metadata": {
    "collapsed": false
   },
   "outputs": [],
   "source": [
    "### Data exploration visualization goes here.\n",
    "### Feel free to use as many code cells as needed.\n",
    "\n",
    "# draw the max size picture\n",
    "size = mostCommonSize['size']\n",
    "count = mostCommonSize['count']\n",
    "index = mostCommonSize['lastIdx']\n",
    "classId = train['labels'][index]\n",
    "description = classLabelList[classLabelList.ClassId==classId].SignName.to_string(header=False,index=False)\n",
    "fg = plt.figure()\n",
    "fg.text(0.1,-0.01,'Training Set Sample ClassId: %d\\nDescription:  %s'%(classId,description))\n",
    "plt.title('Training Set Sample Most Common Original Size (%dX%d), count: %d\\n'%(size[0], size[1],count))\n",
    "plt.imshow(X_train[index])\n"
   ]
  },
  {
   "cell_type": "code",
   "execution_count": null,
   "metadata": {
    "collapsed": false
   },
   "outputs": [],
   "source": [
    "### Data exploration visualization goes here.\n",
    "### Feel free to use as many code cells as needed.\n",
    "\n",
    "# x,y plot of the image locations\n",
    "labelsStats = pd.DataFrame(y_train)\n",
    "print(\"Labels Stats:\")\n",
    "print(labelsStats.describe())\n",
    "\n",
    "labelsInfo = {}\n",
    "mostCommonCount = 0\n",
    "mostCommonLabel = 0\n",
    "for i in range(len(y_train)):\n",
    "    # for each label\n",
    "    label = str(y_train[i])\n",
    "    \n",
    "    # try to see if there is a hash hit\n",
    "    labelInstance = labelsInfo.get(label, {'count': 0})\n",
    "    \n",
    "    # add to the count\n",
    "    count = labelInstance['count'] + 1\n",
    "    \n",
    "    # put in the last Index\n",
    "    labelsInfo[label] = {'lastIdx':i, 'count': count, 'label':int(label)}\n",
    "    \n",
    "    # update most common size\n",
    "    if count > mostCommonCount:\n",
    "        mostCommonCount = count\n",
    "        mostCommonSize = labelsInfo[label]\n",
    "    \n",
    "# get the list of counts and sort them\n",
    "sortedLabels = list(labelsInfo.keys())\n",
    "\n",
    "def compare_count(label):\n",
    "    return labelsInfo[label]['count']\n",
    "\n",
    "sortedLabels.sort(key=compare_count)\n",
    "\n",
    "# get the unique number of original picture sizes and the min and max last instance\n",
    "n_labels = len(sortedLabels)\n",
    "minLabel = sortedLabels[0]\n",
    "maxLabel = sortedLabels[n_labels-1]\n",
    "\n",
    "\n",
    "# print the stats\n",
    "print(\"\\nNumber of unique labels in training set: \", n_labels)\n",
    "print(\"\\nDistribution of training set labels:\")\n",
    "for i in range(n_labels):\n",
    "    classId = labelsInfo[str(i)]['label']\n",
    "    index = labelsInfo[str(i)]['lastIdx']\n",
    "    count = labelsInfo[str(i)]['count']\n",
    "    description = classLabelList[classLabelList.ClassId==classId].SignName.to_string(header=False,index=False)\n",
    "    print(\"Training Set count: {0:4d}  ClassId: {1:02d}  Description: {2}\".format(count, classId, description))\n"
   ]
  },
  {
   "cell_type": "code",
   "execution_count": null,
   "metadata": {
    "collapsed": false
   },
   "outputs": [],
   "source": [
    "### Data exploration visualization goes here.\n",
    "### Feel free to use as many code cells as needed.\n",
    "\n",
    "# Plot bar graph of class id count distribution\n",
    "x = range(0, n_labels)\n",
    "y = [labelsInfo[str(n)]['count'] for n in x]\n",
    "fg = plt.figure()\n",
    "ax1 = fg.add_axes((.1,.4,.8,.5))\n",
    "ax1.bar(x,y,0.5)\n",
    "plt.xlim((-2.0, 44))\n",
    "plt.ylabel(\"Counts\", fontsize = 12)\n",
    "plt.xlabel(\"Class Id\", fontsize = 12)\n",
    "plt.show()\n"
   ]
  },
  {
   "cell_type": "code",
   "execution_count": null,
   "metadata": {
    "collapsed": false
   },
   "outputs": [],
   "source": [
    "# print the stats\n",
    "print(\"\\nDistribution of training set labels in sorted count order:\")\n",
    "for i in range(n_labels):\n",
    "    classId = labelsInfo[str(sortedLabels[i])]['label']\n",
    "    index = labelsInfo[str(sortedLabels[i])]['lastIdx']\n",
    "    count = labelsInfo[str(sortedLabels[i])]['count']\n",
    "    description = classLabelList[classLabelList.ClassId==classId].SignName.to_string(header=False,index=False)\n",
    "    print(\"Training Set count: {0:4d}  ClassId: {1:02d}  Description: {2}\".format(count, classId, description))\n"
   ]
  },
  {
   "cell_type": "code",
   "execution_count": null,
   "metadata": {
    "collapsed": false
   },
   "outputs": [],
   "source": [
    "### Data exploration visualization goes here.\n",
    "### Feel free to use as many code cells as needed.\n",
    "\n",
    "# list minimium count for class id and draw a sample picture.\n",
    "classId = labelsInfo[str(minLabel)]['label']\n",
    "index = labelsInfo[str(minLabel)]['lastIdx']\n",
    "count = labelsInfo[str(minLabel)]['count']\n",
    "description = classLabelList[classLabelList.ClassId==classId].SignName.to_string(header=False,index=False)\n",
    "fg = plt.figure()\n",
    "fg.text(0.1,-0.01,'Description: %s'%(description))\n",
    "plt.title('Training Set Sample Minimum Label Count ClassId: %d  Count: %d'%(classId,count))\n",
    "plt.imshow(X_train[index])"
   ]
  },
  {
   "cell_type": "code",
   "execution_count": null,
   "metadata": {
    "collapsed": false
   },
   "outputs": [],
   "source": [
    "### Data exploration visualization goes here.\n",
    "### Feel free to use as many code cells as needed.\n",
    "\n",
    "# list maximium count for class id and draw a sample picture.\n",
    "classId = labelsInfo[str(maxLabel)]['label']\n",
    "index = labelsInfo[str(maxLabel)]['lastIdx']\n",
    "count = labelsInfo[str(maxLabel)]['count']\n",
    "description = classLabelList[classLabelList.ClassId==classId].SignName.to_string(header=False,index=False)\n",
    "fg = plt.figure()\n",
    "fg.text(0.1,-0.01,'Description: %s'%(description))\n",
    "plt.title('Training Set Sample Maximum Label Count ClassId: %d  Count: %d'%(classId,count))\n",
    "plt.imshow(X_train[index])"
   ]
  },
  {
   "cell_type": "code",
   "execution_count": null,
   "metadata": {
    "collapsed": false
   },
   "outputs": [],
   "source": [
    "# It seems that the 'sizes' (width, height) and 'coords' (x1, y1, x2, y2) features have the same values?\n",
    "# Looks like we cannot get any real information from the 'coords' feature.\n",
    "allsame = True\n",
    "for i in range(n_train):\n",
    "    if not (train['sizes'][i].all() == train['coords'][i].all()):\n",
    "        allsame = False\n",
    "if allsame:\n",
    "    print(\"train['sizes'] == train['coords']!!!\\nIgnoring 'coords' feature in train dataset.\\n\")\n",
    "\n",
    "allsame = True\n",
    "for i in range(n_test):\n",
    "    if not (test['sizes'][i].all() == test['coords'][i].all()):\n",
    "        allsame = False\n",
    "if allsame:\n",
    "    print(\"test['sizes'] == test['coords']!!!\\nIgnoring 'coords' feature in test dataset.\\n\")\n",
    "\n"
   ]
  },
  {
   "cell_type": "markdown",
   "metadata": {},
   "source": [
    "----\n",
    "\n",
    "## Step 2: Design and Test a Model Architecture\n",
    "\n",
    "Design and implement a deep learning model that learns to recognize traffic signs. Train and test your model on the [German Traffic Sign Dataset](http://benchmark.ini.rub.de/?section=gtsrb&subsection=dataset).\n",
    "\n",
    "There are various aspects to consider when thinking about this problem:\n",
    "\n",
    "- Your model can be derived from a deep feedforward net or a deep convolutional network.\n",
    "- Play around preprocessing techniques (normalization, rgb to grayscale, etc)\n",
    "- Number of examples per label (some have more than others).\n",
    "- Generate fake data.\n",
    "\n",
    "Here is an example of a [published baseline model on this problem](http://yann.lecun.com/exdb/publis/pdf/sermanet-ijcnn-11.pdf). It's not required to be familiar with the approach used in the paper but, it's good practice to try to read papers like these."
   ]
  },
  {
   "cell_type": "markdown",
   "metadata": {},
   "source": [
    "### Implementation\n",
    "\n",
    "Use the code cell (or multiple code cells, if necessary) to implement the first step of your project. Once you have completed your implementation and are satisfied with the results, be sure to thoroughly answer the questions that follow."
   ]
  },
  {
   "cell_type": "code",
   "execution_count": null,
   "metadata": {
    "collapsed": false
   },
   "outputs": [],
   "source": [
    "### Preprocess the data here.\n",
    "### Feel free to use as many code cells as needed.\n",
    "###\n",
    "### Step 1:\n",
    "### We need to condition the training and testing data.  We need to convert the color image to grey scale since\n",
    "### RGB features in the traffic sign will not contribute to its classification and recognition.  We will use\n",
    "### OpenCV to do the conversion as we did in the earlier Lane Line Project 1 to reduce the size of the features\n",
    "### so as to allow the Stochastic Gradient Descent Machine Learning algorithm to process more relivent data to\n",
    "### learn faster.  In referencing the article: http://yann.lecun.com/exdb/publis/pdf/sermanet-ijcnn-11.pdf,\n",
    "### page 2, section III. EXPERIMENTS, subsection A. Data Preparation, item 2) Pre-processing, we find \n",
    "### converting the feature RGB color space to YUV seems to improve classification and recognition, and we will\n",
    "### follow this path as well.  Since our training and test features are already at 32x32 resolution, we just\n",
    "### need to do the conversion to YUV color space in this step.\n",
    "\n",
    "def RGB2YUV(image_data):\n",
    "    yuv_image_data = []\n",
    "    for i in range(len(image_data)):\n",
    "        yuv_image_data.append(cv2.cvtColor(image_data[i], cv2.COLOR_RGB2YUV))\n",
    "    return yuv_image_data\n",
    "\n",
    "if is_features_yuv:\n",
    "    print('Nothing done.  Features are already in YUV!')\n",
    "else:\n",
    "    X_train = RGB2YUV(X_train)\n",
    "    X_test = RGB2YUV(X_test)\n",
    "    is_features_yuv = True\n",
    "    print('Features are now converted YUV!')\n",
    "\n",
    "# list maximium count for class id and draw a sample picture.\n",
    "print('X_train image shape: ', X_train[index].shape, \" of \", type(X_train[index][0][0][0]))\n",
    "classId = labelsInfo[str(maxLabel)]['label']\n",
    "index = labelsInfo[str(maxLabel)]['lastIdx']\n",
    "description = classLabelList[classLabelList.ClassId==classId].SignName.to_string(header=False,index=False)\n",
    "fg = plt.figure()\n",
    "fg.text(0.1,-0.01,'Description: %s in YUV Color Space'%(description))\n",
    "plt.title('Training Set Sample ClassId: %d converted from RGB to YUV'%(classId))\n",
    "plt.imshow(X_train[index])"
   ]
  },
  {
   "cell_type": "code",
   "execution_count": null,
   "metadata": {
    "collapsed": false
   },
   "outputs": [],
   "source": [
    "### Preprocess the data here.\n",
    "### Feel free to use as many code cells as needed.\n",
    "###\n",
    "### Step 2:\n",
    "### We will implement the Min-Max scaling function and apply it to the Y in the UV color space as described in\n",
    "### in the article: http://yann.lecun.com/exdb/publis/pdf/sermanet-ijcnn-11.pdf, page 2, section III.\n",
    "### EXPERIMENTS, subsection A. Data Preparation, item 2) Pre-processing.  We will apply this to images we\n",
    "### converted in step 1.\n",
    "###\n",
    "### This is needed as we did in the TensorFlow Neural Network Lab assignment to process the image into a\n",
    "### well conditioned features so we are centered on a zero mean with equal variance to make it easy for\n",
    "### our neural network to perform Gradient Descent faster to train its weights and biases to the given labels.\n",
    "### We will also convert the features from uint8 to float32 to make it easier for GPUs to process the data\n",
    "### Using their thousands of multi-cores parallel processing units in a CUDA enabled Deep Learning system.\n",
    "\n",
    "def normalize_Y_in_YUV(image_data):\n",
    "    \"\"\"\n",
    "    Normalize the image data with Min-Max scaling to a range of [0.1, 0.9]\n",
    "    :param image_data: The image data to be normalized\n",
    "    :return: Normalized image data\n",
    "    \"\"\"\n",
    "    a = 0.1\n",
    "    b = 0.9\n",
    "    y_min = 0\n",
    "    y_max = 255\n",
    "    yuv_image_data = []\n",
    "\n",
    "    for i in range(len(image_data)):\n",
    "        yuv = cv2.split(image_data[i])  \n",
    "        y = np.array(yuv[0], np.float32)\n",
    "        y = a + ( ( (y - y_min)*(b - a) )/( y_max - y_min ) )\n",
    "        u = np.array(yuv[1], np.float32)\n",
    "        v = np.array(yuv[2], np.float32)\n",
    "        yuv = np.dstack((y, u, v))\n",
    "        yuv_image_data.append(yuv)\n",
    "    return yuv_image_data\n",
    "\n",
    "if is_features_y_normal:\n",
    "    print('Nothing done.  Features Y are already normalized and converted to float32!')\n",
    "else:\n",
    "    X_train = normalize_Y_in_YUV(X_train)\n",
    "    X_test = normalize_Y_in_YUV(X_test)\n",
    "    is_features_y_normal = True\n",
    "    print('Features Y are now normalized and converted to float32!')\n",
    "\n",
    "# list maximium count for class id and draw a sample picture.\n",
    "print('X_train image shape: ', X_train[index].shape, \" of \", type(X_train[index][0][0][0]))\n",
    "classId = labelsInfo[str(maxLabel)]['label']\n",
    "index = labelsInfo[str(maxLabel)]['lastIdx']\n",
    "description = classLabelList[classLabelList.ClassId==classId].SignName.to_string(header=False,index=False)\n",
    "fg = plt.figure()\n",
    "fg.text(0.1,-0.01,'Description: %s with Normalized Y in YUV Color Space'%(description))\n",
    "plt.title('Training Set Sample ClassId: %d normalized YUV'%(classId))\n",
    "plt.imshow(X_train[index])"
   ]
  },
  {
   "cell_type": "code",
   "execution_count": null,
   "metadata": {
    "collapsed": false
   },
   "outputs": [],
   "source": [
    "### Preprocess the data here.\n",
    "### Feel free to use as many code cells as needed.\n",
    "###\n",
    "### Step 3:\n",
    "### We will apply One-Hot Encoding to our numeric traffic labels.\n",
    "### This is a way to represent our labels mathematically so that we have a vector that contains as many values\n",
    "### as we have classes.  The value that we want to set for the correct class is set to 1 while all others are\n",
    "### set to 0.\n",
    "\n",
    "if is_labels_encod:\n",
    "    print('Nothing done.  Labels are already encoded!')\n",
    "else:\n",
    "    encoder = LabelBinarizer()\n",
    "    encoder.fit(y_train)\n",
    "    y_train = encoder.transform(y_train)\n",
    "    y_test = encoder.transform(y_test)\n",
    "    is_labels_encod = True\n",
    "    print('Labels are now encoded!')\n"
   ]
  },
  {
   "cell_type": "code",
   "execution_count": null,
   "metadata": {
    "collapsed": true
   },
   "outputs": [],
   "source": [
    "### Preprocess the data here.\n",
    "### Feel free to use as many code cells as needed.\n",
    "###\n",
    "### Step 4:\n",
    "### We will change our One-Hot Encoded labels to float32 so as to allow them to be multiplied against\n",
    "### the features in Tensorflow using the thousands of multi-cores parallel processing units in a CUDA\n",
    "### enabled Deep Learning system.\n",
    "\n",
    "if is_labels_float32:\n",
    "    print('Nothing done!  Labels are already float32!')\n",
    "else:\n",
    "    y_train = y_train.astype(np.float32)\n",
    "    y_test = y_test.astype(np.float32)\n",
    "    is_labels_float32 = True\n",
    "    print('Labels are now float32!')"
   ]
  },
  {
   "cell_type": "markdown",
   "metadata": {},
   "source": [
    "### Question 1 \n",
    "\n",
    "_Describe the techniques used to preprocess the data._"
   ]
  },
  {
   "cell_type": "markdown",
   "metadata": {},
   "source": [
    "**Answer:**"
   ]
  },
  {
   "cell_type": "code",
   "execution_count": null,
   "metadata": {
    "collapsed": true
   },
   "outputs": [],
   "source": [
    "### Generate data additional (if you want to!)\n",
    "### and split the data into training/validation/testing sets here.\n",
    "### Feel free to use as many code cells as needed."
   ]
  },
  {
   "cell_type": "markdown",
   "metadata": {},
   "source": [
    "### Question 2\n",
    "\n",
    "_Describe how you set up the training, validation and testing data for your model. If you generated additional data, why?_"
   ]
  },
  {
   "cell_type": "markdown",
   "metadata": {},
   "source": [
    "**Answer:**"
   ]
  },
  {
   "cell_type": "code",
   "execution_count": null,
   "metadata": {
    "collapsed": true
   },
   "outputs": [],
   "source": [
    "### Define your architecture here.\n",
    "### Feel free to use as many code cells as needed."
   ]
  },
  {
   "cell_type": "markdown",
   "metadata": {},
   "source": [
    "### Question 3\n",
    "\n",
    "_What does your final architecture look like? (Type of model, layers, sizes, connectivity, etc.)  For reference on how to build a deep neural network using TensorFlow, see [Deep Neural Network in TensorFlow\n",
    "](https://classroom.udacity.com/nanodegrees/nd013/parts/fbf77062-5703-404e-b60c-95b78b2f3f9e/modules/6df7ae49-c61c-4bb2-a23e-6527e69209ec/lessons/b516a270-8600-4f93-a0a3-20dfeabe5da6/concepts/83a3a2a2-a9bd-4b7b-95b0-eb924ab14432) from the classroom._\n"
   ]
  },
  {
   "cell_type": "markdown",
   "metadata": {},
   "source": [
    "**Answer:**"
   ]
  },
  {
   "cell_type": "code",
   "execution_count": null,
   "metadata": {
    "collapsed": true
   },
   "outputs": [],
   "source": [
    "### Train your model here.\n",
    "### Feel free to use as many code cells as needed."
   ]
  },
  {
   "cell_type": "markdown",
   "metadata": {},
   "source": [
    "### Question 4\n",
    "\n",
    "_How did you train your model? (Type of optimizer, batch size, epochs, hyperparameters, etc.)_\n"
   ]
  },
  {
   "cell_type": "markdown",
   "metadata": {},
   "source": [
    "**Answer:**"
   ]
  },
  {
   "cell_type": "markdown",
   "metadata": {},
   "source": [
    "### Question 5\n",
    "\n",
    "\n",
    "_What approach did you take in coming up with a solution to this problem?_"
   ]
  },
  {
   "cell_type": "markdown",
   "metadata": {},
   "source": [
    "**Answer:**"
   ]
  },
  {
   "cell_type": "markdown",
   "metadata": {},
   "source": [
    "---\n",
    "\n",
    "## Step 3: Test a Model on New Images\n",
    "\n",
    "Take several pictures of traffic signs that you find on the web or around you (at least five), and run them through your classifier on your computer to produce example results. The classifier might not recognize some local signs but it could prove interesting nonetheless.\n",
    "\n",
    "You may find `signnames.csv` useful as it contains mappings from the class id (integer) to the actual sign name."
   ]
  },
  {
   "cell_type": "markdown",
   "metadata": {},
   "source": [
    "### Implementation\n",
    "\n",
    "Use the code cell (or multiple code cells, if necessary) to implement the first step of your project. Once you have completed your implementation and are satisfied with the results, be sure to thoroughly answer the questions that follow."
   ]
  },
  {
   "cell_type": "code",
   "execution_count": null,
   "metadata": {
    "collapsed": true
   },
   "outputs": [],
   "source": [
    "### Load the images and plot them here.\n",
    "### Feel free to use as many code cells as needed."
   ]
  },
  {
   "cell_type": "markdown",
   "metadata": {},
   "source": [
    "### Question 6\n",
    "\n",
    "_Choose five candidate images of traffic signs and provide them in the report. Are there any particular qualities of the image(s) that might make classification difficult? It would be helpful to plot the images in the notebook._\n",
    "\n"
   ]
  },
  {
   "cell_type": "markdown",
   "metadata": {},
   "source": [
    "**Answer:**"
   ]
  },
  {
   "cell_type": "code",
   "execution_count": null,
   "metadata": {
    "collapsed": true
   },
   "outputs": [],
   "source": [
    "### Run the predictions here.\n",
    "### Feel free to use as many code cells as needed."
   ]
  },
  {
   "cell_type": "markdown",
   "metadata": {},
   "source": [
    "### Question 7\n",
    "\n",
    "_Is your model able to perform equally well on captured pictures or a live camera stream when compared to testing on the dataset?_\n"
   ]
  },
  {
   "cell_type": "markdown",
   "metadata": {},
   "source": [
    "**Answer:**"
   ]
  },
  {
   "cell_type": "code",
   "execution_count": null,
   "metadata": {
    "collapsed": true
   },
   "outputs": [],
   "source": [
    "### Visualize the softmax probabilities here.\n",
    "### Feel free to use as many code cells as needed."
   ]
  },
  {
   "cell_type": "markdown",
   "metadata": {},
   "source": [
    "### Question 8\n",
    "\n",
    "*Use the model's softmax probabilities to visualize the **certainty** of its predictions, [`tf.nn.top_k`](https://www.tensorflow.org/versions/r0.11/api_docs/python/nn.html#top_k) could prove helpful here. Which predictions is the model certain of? Uncertain? If the model was incorrect in its initial prediction, does the correct prediction appear in the top k? (k should be 5 at most)*\n"
   ]
  },
  {
   "cell_type": "markdown",
   "metadata": {},
   "source": [
    "**Answer:**"
   ]
  },
  {
   "cell_type": "markdown",
   "metadata": {},
   "source": [
    "### Question 9\n",
    "_If necessary, provide documentation for how an interface was built for your model to load and classify newly-acquired images._\n"
   ]
  },
  {
   "cell_type": "markdown",
   "metadata": {},
   "source": [
    "**Answer:**"
   ]
  },
  {
   "cell_type": "markdown",
   "metadata": {},
   "source": [
    "> **Note**: Once you have completed all of the code implementations and successfully answered each question above, you may finalize your work by exporting the iPython Notebook as an HTML document. You can do this by using the menu above and navigating to  \\n\",\n",
    "    \"**File -> Download as -> HTML (.html)**. Include the finished document along with this notebook as your submission."
   ]
  },
  {
   "cell_type": "code",
   "execution_count": null,
   "metadata": {
    "collapsed": true
   },
   "outputs": [],
   "source": []
  }
 ],
 "metadata": {
  "anaconda-cloud": {},
  "kernelspec": {
   "display_name": "Python 3",
   "language": "python",
   "name": "python3"
  },
  "language_info": {
   "codemirror_mode": {
    "name": "ipython",
    "version": 3
   },
   "file_extension": ".py",
   "mimetype": "text/x-python",
   "name": "python",
   "nbconvert_exporter": "python",
   "pygments_lexer": "ipython3",
   "version": "3.5.2"
  }
 },
 "nbformat": 4,
 "nbformat_minor": 1
}
